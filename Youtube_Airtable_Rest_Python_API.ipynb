{
  "nbformat": 4,
  "nbformat_minor": 0,
  "metadata": {
    "colab": {
      "provenance": [],
      "authorship_tag": "ABX9TyM9nGNRefqRc3eto3lBx+tt",
      "include_colab_link": true
    },
    "kernelspec": {
      "name": "python3",
      "display_name": "Python 3"
    },
    "language_info": {
      "name": "python"
    }
  },
  "cells": [
    {
      "cell_type": "markdown",
      "metadata": {
        "id": "view-in-github",
        "colab_type": "text"
      },
      "source": [
        "<a href=\"https://colab.research.google.com/github/PradipNichite/Youtube-Tutorials/blob/main/Youtube_Airtable_Rest_Python_API.ipynb\" target=\"_parent\"><img src=\"https://colab.research.google.com/assets/colab-badge.svg\" alt=\"Open In Colab\"/></a>"
      ]
    },
    {
      "cell_type": "markdown",
      "source": [
        "https://airtable.com/developers/web/api/list-records"
      ],
      "metadata": {
        "id": "3OFaCZWGULKN"
      }
    },
    {
      "cell_type": "markdown",
      "source": [
        "https://airtable.com/create/tokens"
      ],
      "metadata": {
        "id": "EiuGWDt5UP26"
      }
    },
    {
      "cell_type": "markdown",
      "source": [
        "Customers\n",
        "\n"
      ],
      "metadata": {
        "id": "SI5M6MLJBAxF"
      }
    },
    {
      "cell_type": "markdown",
      "source": [
        "###List records"
      ],
      "metadata": {
        "id": "B1NatonBUY9T"
      }
    },
    {
      "cell_type": "code",
      "execution_count": null,
      "metadata": {
        "id": "rqlHZGWwPgin"
      },
      "outputs": [],
      "source": [
        "import requests\n",
        "# url = \"https://api.airtable.com/v0/baseId/tableIdOrName\"\n",
        "url = \"https://api.airtable.com/v0/appL2dPuWXOoI5HNe/Customers\"\n",
        "auth_token = \"auth_token\"\n",
        "headers = {\n",
        "    \"Authorization\": f\"Bearer {auth_token}\"\n",
        "}\n",
        "\n",
        "response = requests.get(url, headers=headers)\n",
        "data = response.json()"
      ]
    },
    {
      "cell_type": "code",
      "source": [
        "data.keys()"
      ],
      "metadata": {
        "colab": {
          "base_uri": "https://localhost:8080/"
        },
        "id": "oQed-AOYF_ge",
        "outputId": "43944419-f8f8-4371-f977-fd20456f738e"
      },
      "execution_count": null,
      "outputs": [
        {
          "output_type": "execute_result",
          "data": {
            "text/plain": [
              "dict_keys(['records'])"
            ]
          },
          "metadata": {},
          "execution_count": 7
        }
      ]
    },
    {
      "cell_type": "code",
      "source": [
        "data['records']"
      ],
      "metadata": {
        "colab": {
          "base_uri": "https://localhost:8080/"
        },
        "id": "1bE_O7QVRZXL",
        "outputId": "094e68fd-8886-4f00-f5f5-5a92da9257d0"
      },
      "execution_count": null,
      "outputs": [
        {
          "output_type": "execute_result",
          "data": {
            "text/plain": [
              "[{'id': 'recsmj1GSqpOAzxy3',\n",
              "  'createdTime': '2023-02-08T07:53:08.000Z',\n",
              "  'fields': {'Age': 25, 'Subscription': 'Premium', 'Name': 'Raj'}},\n",
              " {'id': 'reczaWEreFZQZooSH',\n",
              "  'createdTime': '2023-02-08T07:53:08.000Z',\n",
              "  'fields': {'Age': 30, 'Subscription': 'Standard', 'Name': 'Pradip'}}]"
            ]
          },
          "metadata": {},
          "execution_count": 8
        }
      ]
    },
    {
      "cell_type": "code",
      "source": [
        "data['records'][0]"
      ],
      "metadata": {
        "colab": {
          "base_uri": "https://localhost:8080/"
        },
        "id": "v5Sb-6gHPqOK",
        "outputId": "c2751fef-0a77-4b39-c4c8-5084d4c6dd91"
      },
      "execution_count": null,
      "outputs": [
        {
          "output_type": "execute_result",
          "data": {
            "text/plain": [
              "{'id': 'recsmj1GSqpOAzxy3',\n",
              " 'createdTime': '2023-02-08T07:53:08.000Z',\n",
              " 'fields': {'Age': 25, 'Subscription': 'Premium', 'Name': 'Raj'}}"
            ]
          },
          "metadata": {},
          "execution_count": 9
        }
      ]
    },
    {
      "cell_type": "markdown",
      "source": [
        "###Get record"
      ],
      "metadata": {
        "id": "8-I1fF0WUnYp"
      }
    },
    {
      "cell_type": "code",
      "source": [
        "url = \"https://api.airtable.com/v0/appL2dPuWXOoI5HNe/Customers/recsmj1GSqpOAzxy3\"\n",
        "headers = {\n",
        "    \"Authorization\": f\"Bearer {auth_token}\"\n",
        "}\n",
        "response = requests.get(url, headers=headers)\n",
        "data = response.json()\n",
        "data"
      ],
      "metadata": {
        "colab": {
          "base_uri": "https://localhost:8080/"
        },
        "id": "-MDwBy4JPrtv",
        "outputId": "94e0efb8-205f-4787-ea27-139c786f4e2f"
      },
      "execution_count": null,
      "outputs": [
        {
          "output_type": "execute_result",
          "data": {
            "text/plain": [
              "{'id': 'recsmj1GSqpOAzxy3',\n",
              " 'createdTime': '2023-02-08T07:53:08.000Z',\n",
              " 'fields': {'Age': 25, 'Subscription': 'Premium', 'Name': 'Raj'}}"
            ]
          },
          "metadata": {},
          "execution_count": 11
        }
      ]
    },
    {
      "cell_type": "markdown",
      "source": [
        "###Update record"
      ],
      "metadata": {
        "id": "zqQ4OIK7UsQl"
      }
    },
    {
      "cell_type": "code",
      "source": [
        "url = \"https://api.airtable.com/v0/appL2dPuWXOoI5HNe/Customers/recsmj1GSqpOAzxy3\"\n",
        "headers = {\n",
        "    \"Authorization\": f\"Bearer {auth_token}\",\n",
        "    \"Content-Type\": \"application/json\"\n",
        "}\n",
        "\n",
        "payload = {\n",
        "    \"fields\": {\n",
        "      \"Subscription\": \"Premium\"\n",
        "    }\n",
        "}\n",
        "\n",
        "response = requests.patch(url, headers=headers, json=payload)\n",
        "response.json()"
      ],
      "metadata": {
        "id": "7cVLyBnPQ2X2",
        "colab": {
          "base_uri": "https://localhost:8080/"
        },
        "outputId": "56ad3603-1e21-4ef1-ecb0-da011f7eb66a"
      },
      "execution_count": null,
      "outputs": [
        {
          "output_type": "execute_result",
          "data": {
            "text/plain": [
              "{'id': 'recsmj1GSqpOAzxy3',\n",
              " 'createdTime': '2023-02-08T07:53:08.000Z',\n",
              " 'fields': {'Age': 25, 'Subscription': 'Premium', 'Name': 'Raj'}}"
            ]
          },
          "metadata": {},
          "execution_count": 13
        }
      ]
    },
    {
      "cell_type": "markdown",
      "source": [
        "###Create records"
      ],
      "metadata": {
        "id": "u1sZFPxhUw0V"
      }
    },
    {
      "cell_type": "code",
      "source": [
        "url = \"https://api.airtable.com/v0/appL2dPuWXOoI5HNe/Customers\"\n",
        "headers = {\n",
        "    \"Authorization\": f\"Bearer {auth_token}\",\n",
        "    \"Content-Type\": \"application/json\"\n",
        "}\n",
        "\n",
        "payload = {\n",
        "    \"records\": [\n",
        "      {\n",
        "        \"fields\": {\n",
        "          \"Name\": \"Rahul\",\n",
        "          \"Age\": 22,\n",
        "          \"Subscription\": \"Standard\"\n",
        "        }\n",
        "      },\n",
        "      {\n",
        "        \"fields\": {\n",
        "          \"Name\": \"Raveena\",\n",
        "          \"Age\": 24,\n",
        "          \"Subscription\": \"Premium\"\n",
        "        }\n",
        "      }\n",
        "    ]\n",
        "}\n",
        "\n",
        "response = requests.post(url, headers=headers, json=payload)\n",
        "response.json()"
      ],
      "metadata": {
        "colab": {
          "base_uri": "https://localhost:8080/"
        },
        "id": "QYo6-NmuST9n",
        "outputId": "bb7e9dd2-6f04-4144-faf1-2261bce2cfb7"
      },
      "execution_count": null,
      "outputs": [
        {
          "output_type": "execute_result",
          "data": {
            "text/plain": [
              "{'records': [{'id': 'recY23hRxHWhxuc54',\n",
              "   'createdTime': '2023-02-08T08:21:22.000Z',\n",
              "   'fields': {'Name': 'Rahul', 'Subscription': 'Standard', 'Age': 22}},\n",
              "  {'id': 'reczDnqhGJ3Fatm7t',\n",
              "   'createdTime': '2023-02-08T08:21:22.000Z',\n",
              "   'fields': {'Name': 'Raveena', 'Subscription': 'Premium', 'Age': 24}}]}"
            ]
          },
          "metadata": {},
          "execution_count": 14
        }
      ]
    },
    {
      "cell_type": "markdown",
      "source": [
        "###Delete record"
      ],
      "metadata": {
        "id": "cMiaFK58U4XT"
      }
    },
    {
      "cell_type": "code",
      "source": [
        "url = \"https://api.airtable.com/v0/appL2dPuWXOoI5HNe/Customers/recY23hRxHWhxuc54\"\n",
        "headers = {\n",
        "    \"Authorization\": f\"Bearer {auth_token}\"\n",
        "}\n",
        "\n",
        "response = requests.delete(url, headers=headers)\n",
        "response.json()"
      ],
      "metadata": {
        "colab": {
          "base_uri": "https://localhost:8080/"
        },
        "id": "JK142_yJThgO",
        "outputId": "af1b5317-2255-4802-8d8f-4c4e9489d45a"
      },
      "execution_count": null,
      "outputs": [
        {
          "output_type": "execute_result",
          "data": {
            "text/plain": [
              "{'deleted': True, 'id': 'recY23hRxHWhxuc54'}"
            ]
          },
          "metadata": {},
          "execution_count": 15
        }
      ]
    },
    {
      "cell_type": "code",
      "source": [],
      "metadata": {
        "id": "1C7HvOtrT5pO"
      },
      "execution_count": null,
      "outputs": []
    }
  ]
}