{
  "nbformat": 4,
  "nbformat_minor": 0,
  "metadata": {
    "colab": {
      "provenance": [],
      "authorship_tag": "ABX9TyPFw6jYAxXIVnn1tbTlglVI",
      "include_colab_link": true
    },
    "kernelspec": {
      "name": "python3",
      "display_name": "Python 3"
    },
    "language_info": {
      "name": "python"
    }
  },
  "cells": [
    {
      "cell_type": "markdown",
      "metadata": {
        "id": "view-in-github",
        "colab_type": "text"
      },
      "source": [
        "<a href=\"https://colab.research.google.com/github/PradipNichite/Youtube-Tutorials/blob/main/Amazon_Comprehend.ipynb\" target=\"_parent\"><img src=\"https://colab.research.google.com/assets/colab-badge.svg\" alt=\"Open In Colab\"/></a>"
      ]
    },
    {
      "cell_type": "code",
      "execution_count": 1,
      "metadata": {
        "colab": {
          "base_uri": "https://localhost:8080/"
        },
        "id": "pTin9SiryGaD",
        "outputId": "f0394df6-21ee-4cff-e3b6-f189a2e95f94"
      },
      "outputs": [
        {
          "output_type": "stream",
          "name": "stdout",
          "text": [
            "Looking in indexes: https://pypi.org/simple, https://us-python.pkg.dev/colab-wheels/public/simple/\n",
            "Requirement already satisfied: boto3 in /usr/local/lib/python3.7/dist-packages (1.26.16)\n",
            "Requirement already satisfied: jmespath<2.0.0,>=0.7.1 in /usr/local/lib/python3.7/dist-packages (from boto3) (1.0.1)\n",
            "Requirement already satisfied: botocore<1.30.0,>=1.29.16 in /usr/local/lib/python3.7/dist-packages (from boto3) (1.29.16)\n",
            "Requirement already satisfied: s3transfer<0.7.0,>=0.6.0 in /usr/local/lib/python3.7/dist-packages (from boto3) (0.6.0)\n",
            "Requirement already satisfied: urllib3<1.27,>=1.25.4 in /usr/local/lib/python3.7/dist-packages (from botocore<1.30.0,>=1.29.16->boto3) (1.26.13)\n",
            "Requirement already satisfied: python-dateutil<3.0.0,>=2.1 in /usr/local/lib/python3.7/dist-packages (from botocore<1.30.0,>=1.29.16->boto3) (2.8.2)\n",
            "Requirement already satisfied: six>=1.5 in /usr/local/lib/python3.7/dist-packages (from python-dateutil<3.0.0,>=2.1->botocore<1.30.0,>=1.29.16->boto3) (1.15.0)\n"
          ]
        }
      ],
      "source": [
        "!pip install boto3"
      ]
    },
    {
      "cell_type": "markdown",
      "source": [
        "###Boto3 Client (Comprehend)\n",
        "\n",
        "https://boto3.amazonaws.com/v1/documentation/api/latest/reference/services/comprehend.html"
      ],
      "metadata": {
        "id": "PH9M_kcm7Vzl"
      }
    },
    {
      "cell_type": "code",
      "source": [
        "import boto3\n",
        "client = boto3.client('comprehend',region_name='us-east-1',aws_access_key_id='',aws_secret_access_key='')"
      ],
      "metadata": {
        "id": "JqzHAPVS2MLE"
      },
      "execution_count": 2,
      "outputs": []
    },
    {
      "cell_type": "code",
      "source": [
        "client"
      ],
      "metadata": {
        "colab": {
          "base_uri": "https://localhost:8080/"
        },
        "id": "hefjJK012Y_a",
        "outputId": "65882c5a-9fc3-4e3a-caef-855f9333b8ef"
      },
      "execution_count": 3,
      "outputs": [
        {
          "output_type": "execute_result",
          "data": {
            "text/plain": [
              "<botocore.client.Comprehend at 0x7f0fc54aff50>"
            ]
          },
          "metadata": {},
          "execution_count": 3
        }
      ]
    },
    {
      "cell_type": "markdown",
      "source": [
        "###Sentiment"
      ],
      "metadata": {
        "id": "pFvuScME6A7i"
      }
    },
    {
      "cell_type": "code",
      "source": [
        "text = \"\"\"Hawthorne wrote a masterful work of historical fiction incorporating an examination of guilt, revenge and suffering in the context of Puritan Salem. Here is a book that speaks to any age about timeless themes. The Scarlet Letter is one of those books that may have force fed to one during grade school but revisited from the perspective of adulthood it is a very fine example of great writing from a true American master.\"\"\"\n",
        "\n",
        "client.detect_sentiment(Text=text, LanguageCode='en')"
      ],
      "metadata": {
        "colab": {
          "base_uri": "https://localhost:8080/"
        },
        "id": "mE-xZQew2h4a",
        "outputId": "46f4b848-36c4-4b46-d0c2-ea45017f6810"
      },
      "execution_count": 4,
      "outputs": [
        {
          "output_type": "execute_result",
          "data": {
            "text/plain": [
              "{'Sentiment': 'POSITIVE',\n",
              " 'SentimentScore': {'Positive': 0.9966793060302734,\n",
              "  'Negative': 6.251714512472972e-05,\n",
              "  'Neutral': 0.0031647798605263233,\n",
              "  'Mixed': 9.345235594082624e-05},\n",
              " 'ResponseMetadata': {'RequestId': '434d326c-ed97-4828-adfc-8cc7d347cb75',\n",
              "  'HTTPStatusCode': 200,\n",
              "  'HTTPHeaders': {'x-amzn-requestid': '434d326c-ed97-4828-adfc-8cc7d347cb75',\n",
              "   'content-type': 'application/x-amz-json-1.1',\n",
              "   'content-length': '166',\n",
              "   'date': 'Sat, 26 Nov 2022 12:11:45 GMT'},\n",
              "  'RetryAttempts': 0}}"
            ]
          },
          "metadata": {},
          "execution_count": 4
        }
      ]
    },
    {
      "cell_type": "markdown",
      "source": [
        "###Dominant Language"
      ],
      "metadata": {
        "id": "Tt_4Wk1B6GJ_"
      }
    },
    {
      "cell_type": "code",
      "source": [
        "text = \"Fuel Prices Latest Updates: इंटरनेशनल मार्केट में क्रूड ऑयल के रेट में उतार-चढ़ाव के बीच भारतीय तेल कंपनियों ने आज, 26 नवंबर को भी पेट्रोल-डीजल की कीम\"\n",
        "response = client.detect_dominant_language(Text = text)\n",
        "response"
      ],
      "metadata": {
        "colab": {
          "base_uri": "https://localhost:8080/"
        },
        "id": "aoZ5BBNy22Jb",
        "outputId": "859d6e40-5325-431d-c692-fd04ea201954"
      },
      "execution_count": 5,
      "outputs": [
        {
          "output_type": "execute_result",
          "data": {
            "text/plain": [
              "{'Languages': [{'LanguageCode': 'hi', 'Score': 0.9900373220443726}],\n",
              " 'ResponseMetadata': {'RequestId': '4f3478d6-c052-4434-9861-44920b143d76',\n",
              "  'HTTPStatusCode': 200,\n",
              "  'HTTPHeaders': {'x-amzn-requestid': '4f3478d6-c052-4434-9861-44920b143d76',\n",
              "   'content-type': 'application/x-amz-json-1.1',\n",
              "   'content-length': '64',\n",
              "   'date': 'Sat, 26 Nov 2022 12:12:53 GMT'},\n",
              "  'RetryAttempts': 0}}"
            ]
          },
          "metadata": {},
          "execution_count": 5
        }
      ]
    },
    {
      "cell_type": "markdown",
      "source": [
        "The winter season is here. And no matter, how much we look forward to the good parts of the season, with the pollution levels rising in the Delhi NCR region post-Diwali, it has become a severe concern for the people. Speaking to HT Lifestyle, Dr Anupam Biswas, Consultant – Endocrinology, Fortis Hospital Noida said, \"With the rise in air pollution, there has been an exacerbation of lung diseases such as Asthma and Chronic obstructive pulmonary disease (COPD). Patients with diabetes mellitus and obesity are more prone to such exacerbations and the consequent development of serious lung infections such as pneumonia.\n",
        "\n",
        "https://www.hindustantimes.com/lifestyle/health/diabetes-tips-to-survive-winter-pollution-for-diabetic-and-asthma-patients-101669447146084.html"
      ],
      "metadata": {
        "id": "FFnMm4CT5KT_"
      }
    },
    {
      "cell_type": "markdown",
      "source": [
        "###Entities"
      ],
      "metadata": {
        "id": "JkSDWPWH6NuT"
      }
    },
    {
      "cell_type": "code",
      "source": [
        "text = \"\"\"The winter season is here. And no matter, how much we look forward to the good parts of the season, with the pollution levels rising in the Delhi NCR region post-Diwali, it has become a severe concern for the people. Speaking to HT Lifestyle, Dr Anupam Biswas, Consultant – Endocrinology, Fortis Hospital Noida said, \"With the rise in air pollution, there has been an exacerbation of lung diseases such as Asthma and Chronic obstructive pulmonary disease (COPD). Patients with diabetes mellitus and obesity are more prone to such exacerbations and the consequent development of serious lung infections such as pneumonia.\"\"\"\n",
        "response = client.detect_entities(Text=text, LanguageCode='en')\n",
        "response"
      ],
      "metadata": {
        "colab": {
          "base_uri": "https://localhost:8080/"
        },
        "id": "29tz-vGD3vq6",
        "outputId": "e199f606-c3f0-4906-ec92-0ee617f0e7c2"
      },
      "execution_count": 6,
      "outputs": [
        {
          "output_type": "execute_result",
          "data": {
            "text/plain": [
              "{'Entities': [{'Score': 0.9841204881668091,\n",
              "   'Type': 'LOCATION',\n",
              "   'Text': 'Delhi NCR',\n",
              "   'BeginOffset': 140,\n",
              "   'EndOffset': 149},\n",
              "  {'Score': 0.6661772131919861,\n",
              "   'Type': 'EVENT',\n",
              "   'Text': 'Diwali',\n",
              "   'BeginOffset': 162,\n",
              "   'EndOffset': 168},\n",
              "  {'Score': 0.9804009795188904,\n",
              "   'Type': 'ORGANIZATION',\n",
              "   'Text': 'HT Lifestyle',\n",
              "   'BeginOffset': 229,\n",
              "   'EndOffset': 241},\n",
              "  {'Score': 0.936894416809082,\n",
              "   'Type': 'PERSON',\n",
              "   'Text': 'Dr',\n",
              "   'BeginOffset': 243,\n",
              "   'EndOffset': 245},\n",
              "  {'Score': 0.9989443421363831,\n",
              "   'Type': 'PERSON',\n",
              "   'Text': 'Anupam Biswas',\n",
              "   'BeginOffset': 246,\n",
              "   'EndOffset': 259},\n",
              "  {'Score': 0.796907365322113,\n",
              "   'Type': 'ORGANIZATION',\n",
              "   'Text': 'Fortis Hospital Noida',\n",
              "   'BeginOffset': 289,\n",
              "   'EndOffset': 310},\n",
              "  {'Score': 0.9672803282737732,\n",
              "   'Type': 'OTHER',\n",
              "   'Text': 'Asthma',\n",
              "   'BeginOffset': 406,\n",
              "   'EndOffset': 412},\n",
              "  {'Score': 0.9298854470252991,\n",
              "   'Type': 'OTHER',\n",
              "   'Text': 'Chronic obstructive pulmonary disease',\n",
              "   'BeginOffset': 417,\n",
              "   'EndOffset': 454},\n",
              "  {'Score': 0.8126714825630188,\n",
              "   'Type': 'OTHER',\n",
              "   'Text': 'COPD',\n",
              "   'BeginOffset': 456,\n",
              "   'EndOffset': 460},\n",
              "  {'Score': 0.6474372148513794,\n",
              "   'Type': 'OTHER',\n",
              "   'Text': 'diabetes',\n",
              "   'BeginOffset': 477,\n",
              "   'EndOffset': 485}],\n",
              " 'ResponseMetadata': {'RequestId': 'e68d84ba-96fd-43a1-b20f-6589b3e22779',\n",
              "  'HTTPStatusCode': 200,\n",
              "  'HTTPHeaders': {'x-amzn-requestid': 'e68d84ba-96fd-43a1-b20f-6589b3e22779',\n",
              "   'content-type': 'application/x-amz-json-1.1',\n",
              "   'content-length': '1029',\n",
              "   'date': 'Sat, 26 Nov 2022 12:14:10 GMT'},\n",
              "  'RetryAttempts': 0}}"
            ]
          },
          "metadata": {},
          "execution_count": 6
        }
      ]
    },
    {
      "cell_type": "code",
      "source": [
        "import pandas as pd"
      ],
      "metadata": {
        "id": "35DK3lQJvcGe"
      },
      "execution_count": 7,
      "outputs": []
    },
    {
      "cell_type": "code",
      "source": [
        "pd.DataFrame(response['Entities'])"
      ],
      "metadata": {
        "colab": {
          "base_uri": "https://localhost:8080/",
          "height": 424
        },
        "id": "uCAG92n8vfoQ",
        "outputId": "b8388a91-6787-4612-fc24-f74517ea476c"
      },
      "execution_count": 8,
      "outputs": [
        {
          "output_type": "execute_result",
          "data": {
            "text/plain": [
              "      Score          Type                                   Text  BeginOffset  \\\n",
              "0  0.984120      LOCATION                              Delhi NCR          140   \n",
              "1  0.666177         EVENT                                 Diwali          162   \n",
              "2  0.980401  ORGANIZATION                           HT Lifestyle          229   \n",
              "3  0.936894        PERSON                                     Dr          243   \n",
              "4  0.998944        PERSON                          Anupam Biswas          246   \n",
              "5  0.796907  ORGANIZATION                  Fortis Hospital Noida          289   \n",
              "6  0.967280         OTHER                                 Asthma          406   \n",
              "7  0.929885         OTHER  Chronic obstructive pulmonary disease          417   \n",
              "8  0.812671         OTHER                                   COPD          456   \n",
              "9  0.647437         OTHER                               diabetes          477   \n",
              "\n",
              "   EndOffset  \n",
              "0        149  \n",
              "1        168  \n",
              "2        241  \n",
              "3        245  \n",
              "4        259  \n",
              "5        310  \n",
              "6        412  \n",
              "7        454  \n",
              "8        460  \n",
              "9        485  "
            ],
            "text/html": [
              "\n",
              "  <div id=\"df-d7591f2a-4d67-43fc-884c-2ff1e317a92f\">\n",
              "    <div class=\"colab-df-container\">\n",
              "      <div>\n",
              "<style scoped>\n",
              "    .dataframe tbody tr th:only-of-type {\n",
              "        vertical-align: middle;\n",
              "    }\n",
              "\n",
              "    .dataframe tbody tr th {\n",
              "        vertical-align: top;\n",
              "    }\n",
              "\n",
              "    .dataframe thead th {\n",
              "        text-align: right;\n",
              "    }\n",
              "</style>\n",
              "<table border=\"1\" class=\"dataframe\">\n",
              "  <thead>\n",
              "    <tr style=\"text-align: right;\">\n",
              "      <th></th>\n",
              "      <th>Score</th>\n",
              "      <th>Type</th>\n",
              "      <th>Text</th>\n",
              "      <th>BeginOffset</th>\n",
              "      <th>EndOffset</th>\n",
              "    </tr>\n",
              "  </thead>\n",
              "  <tbody>\n",
              "    <tr>\n",
              "      <th>0</th>\n",
              "      <td>0.984120</td>\n",
              "      <td>LOCATION</td>\n",
              "      <td>Delhi NCR</td>\n",
              "      <td>140</td>\n",
              "      <td>149</td>\n",
              "    </tr>\n",
              "    <tr>\n",
              "      <th>1</th>\n",
              "      <td>0.666177</td>\n",
              "      <td>EVENT</td>\n",
              "      <td>Diwali</td>\n",
              "      <td>162</td>\n",
              "      <td>168</td>\n",
              "    </tr>\n",
              "    <tr>\n",
              "      <th>2</th>\n",
              "      <td>0.980401</td>\n",
              "      <td>ORGANIZATION</td>\n",
              "      <td>HT Lifestyle</td>\n",
              "      <td>229</td>\n",
              "      <td>241</td>\n",
              "    </tr>\n",
              "    <tr>\n",
              "      <th>3</th>\n",
              "      <td>0.936894</td>\n",
              "      <td>PERSON</td>\n",
              "      <td>Dr</td>\n",
              "      <td>243</td>\n",
              "      <td>245</td>\n",
              "    </tr>\n",
              "    <tr>\n",
              "      <th>4</th>\n",
              "      <td>0.998944</td>\n",
              "      <td>PERSON</td>\n",
              "      <td>Anupam Biswas</td>\n",
              "      <td>246</td>\n",
              "      <td>259</td>\n",
              "    </tr>\n",
              "    <tr>\n",
              "      <th>5</th>\n",
              "      <td>0.796907</td>\n",
              "      <td>ORGANIZATION</td>\n",
              "      <td>Fortis Hospital Noida</td>\n",
              "      <td>289</td>\n",
              "      <td>310</td>\n",
              "    </tr>\n",
              "    <tr>\n",
              "      <th>6</th>\n",
              "      <td>0.967280</td>\n",
              "      <td>OTHER</td>\n",
              "      <td>Asthma</td>\n",
              "      <td>406</td>\n",
              "      <td>412</td>\n",
              "    </tr>\n",
              "    <tr>\n",
              "      <th>7</th>\n",
              "      <td>0.929885</td>\n",
              "      <td>OTHER</td>\n",
              "      <td>Chronic obstructive pulmonary disease</td>\n",
              "      <td>417</td>\n",
              "      <td>454</td>\n",
              "    </tr>\n",
              "    <tr>\n",
              "      <th>8</th>\n",
              "      <td>0.812671</td>\n",
              "      <td>OTHER</td>\n",
              "      <td>COPD</td>\n",
              "      <td>456</td>\n",
              "      <td>460</td>\n",
              "    </tr>\n",
              "    <tr>\n",
              "      <th>9</th>\n",
              "      <td>0.647437</td>\n",
              "      <td>OTHER</td>\n",
              "      <td>diabetes</td>\n",
              "      <td>477</td>\n",
              "      <td>485</td>\n",
              "    </tr>\n",
              "  </tbody>\n",
              "</table>\n",
              "</div>\n",
              "      <button class=\"colab-df-convert\" onclick=\"convertToInteractive('df-d7591f2a-4d67-43fc-884c-2ff1e317a92f')\"\n",
              "              title=\"Convert this dataframe to an interactive table.\"\n",
              "              style=\"display:none;\">\n",
              "        \n",
              "  <svg xmlns=\"http://www.w3.org/2000/svg\" height=\"24px\"viewBox=\"0 0 24 24\"\n",
              "       width=\"24px\">\n",
              "    <path d=\"M0 0h24v24H0V0z\" fill=\"none\"/>\n",
              "    <path d=\"M18.56 5.44l.94 2.06.94-2.06 2.06-.94-2.06-.94-.94-2.06-.94 2.06-2.06.94zm-11 1L8.5 8.5l.94-2.06 2.06-.94-2.06-.94L8.5 2.5l-.94 2.06-2.06.94zm10 10l.94 2.06.94-2.06 2.06-.94-2.06-.94-.94-2.06-.94 2.06-2.06.94z\"/><path d=\"M17.41 7.96l-1.37-1.37c-.4-.4-.92-.59-1.43-.59-.52 0-1.04.2-1.43.59L10.3 9.45l-7.72 7.72c-.78.78-.78 2.05 0 2.83L4 21.41c.39.39.9.59 1.41.59.51 0 1.02-.2 1.41-.59l7.78-7.78 2.81-2.81c.8-.78.8-2.07 0-2.86zM5.41 20L4 18.59l7.72-7.72 1.47 1.35L5.41 20z\"/>\n",
              "  </svg>\n",
              "      </button>\n",
              "      \n",
              "  <style>\n",
              "    .colab-df-container {\n",
              "      display:flex;\n",
              "      flex-wrap:wrap;\n",
              "      gap: 12px;\n",
              "    }\n",
              "\n",
              "    .colab-df-convert {\n",
              "      background-color: #E8F0FE;\n",
              "      border: none;\n",
              "      border-radius: 50%;\n",
              "      cursor: pointer;\n",
              "      display: none;\n",
              "      fill: #1967D2;\n",
              "      height: 32px;\n",
              "      padding: 0 0 0 0;\n",
              "      width: 32px;\n",
              "    }\n",
              "\n",
              "    .colab-df-convert:hover {\n",
              "      background-color: #E2EBFA;\n",
              "      box-shadow: 0px 1px 2px rgba(60, 64, 67, 0.3), 0px 1px 3px 1px rgba(60, 64, 67, 0.15);\n",
              "      fill: #174EA6;\n",
              "    }\n",
              "\n",
              "    [theme=dark] .colab-df-convert {\n",
              "      background-color: #3B4455;\n",
              "      fill: #D2E3FC;\n",
              "    }\n",
              "\n",
              "    [theme=dark] .colab-df-convert:hover {\n",
              "      background-color: #434B5C;\n",
              "      box-shadow: 0px 1px 3px 1px rgba(0, 0, 0, 0.15);\n",
              "      filter: drop-shadow(0px 1px 2px rgba(0, 0, 0, 0.3));\n",
              "      fill: #FFFFFF;\n",
              "    }\n",
              "  </style>\n",
              "\n",
              "      <script>\n",
              "        const buttonEl =\n",
              "          document.querySelector('#df-d7591f2a-4d67-43fc-884c-2ff1e317a92f button.colab-df-convert');\n",
              "        buttonEl.style.display =\n",
              "          google.colab.kernel.accessAllowed ? 'block' : 'none';\n",
              "\n",
              "        async function convertToInteractive(key) {\n",
              "          const element = document.querySelector('#df-d7591f2a-4d67-43fc-884c-2ff1e317a92f');\n",
              "          const dataTable =\n",
              "            await google.colab.kernel.invokeFunction('convertToInteractive',\n",
              "                                                     [key], {});\n",
              "          if (!dataTable) return;\n",
              "\n",
              "          const docLinkHtml = 'Like what you see? Visit the ' +\n",
              "            '<a target=\"_blank\" href=https://colab.research.google.com/notebooks/data_table.ipynb>data table notebook</a>'\n",
              "            + ' to learn more about interactive tables.';\n",
              "          element.innerHTML = '';\n",
              "          dataTable['output_type'] = 'display_data';\n",
              "          await google.colab.output.renderOutput(dataTable, element);\n",
              "          const docLink = document.createElement('div');\n",
              "          docLink.innerHTML = docLinkHtml;\n",
              "          element.appendChild(docLink);\n",
              "        }\n",
              "      </script>\n",
              "    </div>\n",
              "  </div>\n",
              "  "
            ]
          },
          "metadata": {},
          "execution_count": 8
        }
      ]
    },
    {
      "cell_type": "markdown",
      "source": [
        "###Key Phrases"
      ],
      "metadata": {
        "id": "Dl96xfzi6S63"
      }
    },
    {
      "cell_type": "code",
      "source": [
        "response = client.detect_key_phrases(Text=text, LanguageCode='en')\n",
        "response"
      ],
      "metadata": {
        "colab": {
          "base_uri": "https://localhost:8080/"
        },
        "id": "LIavekY64iRA",
        "outputId": "9c29238f-277b-46f3-b070-d0f5bd8b9146"
      },
      "execution_count": 9,
      "outputs": [
        {
          "output_type": "execute_result",
          "data": {
            "text/plain": [
              "{'KeyPhrases': [{'Score': 0.9993047118186951,\n",
              "   'Text': 'The winter season',\n",
              "   'BeginOffset': 0,\n",
              "   'EndOffset': 17},\n",
              "  {'Score': 0.7396022081375122,\n",
              "   'Text': 'matter',\n",
              "   'BeginOffset': 34,\n",
              "   'EndOffset': 40},\n",
              "  {'Score': 0.9997528195381165,\n",
              "   'Text': 'the good parts',\n",
              "   'BeginOffset': 70,\n",
              "   'EndOffset': 84},\n",
              "  {'Score': 0.9999675750732422,\n",
              "   'Text': 'the season',\n",
              "   'BeginOffset': 88,\n",
              "   'EndOffset': 98},\n",
              "  {'Score': 0.998683512210846,\n",
              "   'Text': 'the pollution levels',\n",
              "   'BeginOffset': 105,\n",
              "   'EndOffset': 125},\n",
              "  {'Score': 0.997676432132721,\n",
              "   'Text': 'the Delhi NCR region post-Diwali',\n",
              "   'BeginOffset': 136,\n",
              "   'EndOffset': 168},\n",
              "  {'Score': 0.999972939491272,\n",
              "   'Text': 'a severe concern',\n",
              "   'BeginOffset': 184,\n",
              "   'EndOffset': 200},\n",
              "  {'Score': 0.9999825358390808,\n",
              "   'Text': 'the people',\n",
              "   'BeginOffset': 205,\n",
              "   'EndOffset': 215},\n",
              "  {'Score': 0.9988764524459839,\n",
              "   'Text': 'HT Lifestyle',\n",
              "   'BeginOffset': 229,\n",
              "   'EndOffset': 241},\n",
              "  {'Score': 0.9994760751724243,\n",
              "   'Text': 'Dr Anupam Biswas',\n",
              "   'BeginOffset': 243,\n",
              "   'EndOffset': 259},\n",
              "  {'Score': 0.9985106587409973,\n",
              "   'Text': 'Consultant – Endocrinology',\n",
              "   'BeginOffset': 261,\n",
              "   'EndOffset': 287},\n",
              "  {'Score': 0.9962289333343506,\n",
              "   'Text': 'Fortis Hospital Noida',\n",
              "   'BeginOffset': 289,\n",
              "   'EndOffset': 310},\n",
              "  {'Score': 0.9999045729637146,\n",
              "   'Text': 'the rise',\n",
              "   'BeginOffset': 323,\n",
              "   'EndOffset': 331},\n",
              "  {'Score': 0.9974636435508728,\n",
              "   'Text': 'air pollution',\n",
              "   'BeginOffset': 335,\n",
              "   'EndOffset': 348},\n",
              "  {'Score': 0.9999194145202637,\n",
              "   'Text': 'an exacerbation',\n",
              "   'BeginOffset': 365,\n",
              "   'EndOffset': 380},\n",
              "  {'Score': 0.9998251795768738,\n",
              "   'Text': 'lung diseases',\n",
              "   'BeginOffset': 384,\n",
              "   'EndOffset': 397},\n",
              "  {'Score': 0.7206777334213257,\n",
              "   'Text': 'Asthma and',\n",
              "   'BeginOffset': 406,\n",
              "   'EndOffset': 416},\n",
              "  {'Score': 0.8483825325965881,\n",
              "   'Text': 'Chronic obstructive pulmonary disease',\n",
              "   'BeginOffset': 417,\n",
              "   'EndOffset': 454},\n",
              "  {'Score': 0.999748170375824,\n",
              "   'Text': 'COPD',\n",
              "   'BeginOffset': 456,\n",
              "   'EndOffset': 460},\n",
              "  {'Score': 0.999882698059082,\n",
              "   'Text': 'Patients',\n",
              "   'BeginOffset': 463,\n",
              "   'EndOffset': 471},\n",
              "  {'Score': 0.9983280897140503,\n",
              "   'Text': 'diabetes mellitus',\n",
              "   'BeginOffset': 477,\n",
              "   'EndOffset': 494},\n",
              "  {'Score': 0.7446704506874084,\n",
              "   'Text': 'obesity',\n",
              "   'BeginOffset': 499,\n",
              "   'EndOffset': 506},\n",
              "  {'Score': 0.9916185736656189,\n",
              "   'Text': 'such exacerbations',\n",
              "   'BeginOffset': 525,\n",
              "   'EndOffset': 543},\n",
              "  {'Score': 0.999846339225769,\n",
              "   'Text': 'the consequent development',\n",
              "   'BeginOffset': 548,\n",
              "   'EndOffset': 574},\n",
              "  {'Score': 0.9999037384986877,\n",
              "   'Text': 'serious lung infections',\n",
              "   'BeginOffset': 578,\n",
              "   'EndOffset': 601},\n",
              "  {'Score': 0.9998376369476318,\n",
              "   'Text': 'pneumonia',\n",
              "   'BeginOffset': 610,\n",
              "   'EndOffset': 619}],\n",
              " 'ResponseMetadata': {'RequestId': '079137a8-47b2-48ba-8d85-06253ca72e0b',\n",
              "  'HTTPStatusCode': 200,\n",
              "  'HTTPHeaders': {'x-amzn-requestid': '079137a8-47b2-48ba-8d85-06253ca72e0b',\n",
              "   'content-type': 'application/x-amz-json-1.1',\n",
              "   'content-length': '2309',\n",
              "   'date': 'Sat, 26 Nov 2022 12:17:28 GMT'},\n",
              "  'RetryAttempts': 0}}"
            ]
          },
          "metadata": {},
          "execution_count": 9
        }
      ]
    },
    {
      "cell_type": "code",
      "source": [
        "pd.DataFrame(response['KeyPhrases'])"
      ],
      "metadata": {
        "colab": {
          "base_uri": "https://localhost:8080/",
          "height": 865
        },
        "id": "ZYzgPauavuvX",
        "outputId": "8383fa79-bcf5-43e8-9f0d-81d60bd6e8ad"
      },
      "execution_count": 10,
      "outputs": [
        {
          "output_type": "execute_result",
          "data": {
            "text/plain": [
              "       Score                                   Text  BeginOffset  EndOffset\n",
              "0   0.999305                      The winter season            0         17\n",
              "1   0.739602                                 matter           34         40\n",
              "2   0.999753                         the good parts           70         84\n",
              "3   0.999968                             the season           88         98\n",
              "4   0.998684                   the pollution levels          105        125\n",
              "5   0.997676       the Delhi NCR region post-Diwali          136        168\n",
              "6   0.999973                       a severe concern          184        200\n",
              "7   0.999983                             the people          205        215\n",
              "8   0.998876                           HT Lifestyle          229        241\n",
              "9   0.999476                       Dr Anupam Biswas          243        259\n",
              "10  0.998511             Consultant – Endocrinology          261        287\n",
              "11  0.996229                  Fortis Hospital Noida          289        310\n",
              "12  0.999905                               the rise          323        331\n",
              "13  0.997464                          air pollution          335        348\n",
              "14  0.999919                        an exacerbation          365        380\n",
              "15  0.999825                          lung diseases          384        397\n",
              "16  0.720678                             Asthma and          406        416\n",
              "17  0.848383  Chronic obstructive pulmonary disease          417        454\n",
              "18  0.999748                                   COPD          456        460\n",
              "19  0.999883                               Patients          463        471\n",
              "20  0.998328                      diabetes mellitus          477        494\n",
              "21  0.744670                                obesity          499        506\n",
              "22  0.991619                     such exacerbations          525        543\n",
              "23  0.999846             the consequent development          548        574\n",
              "24  0.999904                serious lung infections          578        601\n",
              "25  0.999838                              pneumonia          610        619"
            ],
            "text/html": [
              "\n",
              "  <div id=\"df-765b6bd2-dc3f-4e55-9d15-7408bd6dc142\">\n",
              "    <div class=\"colab-df-container\">\n",
              "      <div>\n",
              "<style scoped>\n",
              "    .dataframe tbody tr th:only-of-type {\n",
              "        vertical-align: middle;\n",
              "    }\n",
              "\n",
              "    .dataframe tbody tr th {\n",
              "        vertical-align: top;\n",
              "    }\n",
              "\n",
              "    .dataframe thead th {\n",
              "        text-align: right;\n",
              "    }\n",
              "</style>\n",
              "<table border=\"1\" class=\"dataframe\">\n",
              "  <thead>\n",
              "    <tr style=\"text-align: right;\">\n",
              "      <th></th>\n",
              "      <th>Score</th>\n",
              "      <th>Text</th>\n",
              "      <th>BeginOffset</th>\n",
              "      <th>EndOffset</th>\n",
              "    </tr>\n",
              "  </thead>\n",
              "  <tbody>\n",
              "    <tr>\n",
              "      <th>0</th>\n",
              "      <td>0.999305</td>\n",
              "      <td>The winter season</td>\n",
              "      <td>0</td>\n",
              "      <td>17</td>\n",
              "    </tr>\n",
              "    <tr>\n",
              "      <th>1</th>\n",
              "      <td>0.739602</td>\n",
              "      <td>matter</td>\n",
              "      <td>34</td>\n",
              "      <td>40</td>\n",
              "    </tr>\n",
              "    <tr>\n",
              "      <th>2</th>\n",
              "      <td>0.999753</td>\n",
              "      <td>the good parts</td>\n",
              "      <td>70</td>\n",
              "      <td>84</td>\n",
              "    </tr>\n",
              "    <tr>\n",
              "      <th>3</th>\n",
              "      <td>0.999968</td>\n",
              "      <td>the season</td>\n",
              "      <td>88</td>\n",
              "      <td>98</td>\n",
              "    </tr>\n",
              "    <tr>\n",
              "      <th>4</th>\n",
              "      <td>0.998684</td>\n",
              "      <td>the pollution levels</td>\n",
              "      <td>105</td>\n",
              "      <td>125</td>\n",
              "    </tr>\n",
              "    <tr>\n",
              "      <th>5</th>\n",
              "      <td>0.997676</td>\n",
              "      <td>the Delhi NCR region post-Diwali</td>\n",
              "      <td>136</td>\n",
              "      <td>168</td>\n",
              "    </tr>\n",
              "    <tr>\n",
              "      <th>6</th>\n",
              "      <td>0.999973</td>\n",
              "      <td>a severe concern</td>\n",
              "      <td>184</td>\n",
              "      <td>200</td>\n",
              "    </tr>\n",
              "    <tr>\n",
              "      <th>7</th>\n",
              "      <td>0.999983</td>\n",
              "      <td>the people</td>\n",
              "      <td>205</td>\n",
              "      <td>215</td>\n",
              "    </tr>\n",
              "    <tr>\n",
              "      <th>8</th>\n",
              "      <td>0.998876</td>\n",
              "      <td>HT Lifestyle</td>\n",
              "      <td>229</td>\n",
              "      <td>241</td>\n",
              "    </tr>\n",
              "    <tr>\n",
              "      <th>9</th>\n",
              "      <td>0.999476</td>\n",
              "      <td>Dr Anupam Biswas</td>\n",
              "      <td>243</td>\n",
              "      <td>259</td>\n",
              "    </tr>\n",
              "    <tr>\n",
              "      <th>10</th>\n",
              "      <td>0.998511</td>\n",
              "      <td>Consultant – Endocrinology</td>\n",
              "      <td>261</td>\n",
              "      <td>287</td>\n",
              "    </tr>\n",
              "    <tr>\n",
              "      <th>11</th>\n",
              "      <td>0.996229</td>\n",
              "      <td>Fortis Hospital Noida</td>\n",
              "      <td>289</td>\n",
              "      <td>310</td>\n",
              "    </tr>\n",
              "    <tr>\n",
              "      <th>12</th>\n",
              "      <td>0.999905</td>\n",
              "      <td>the rise</td>\n",
              "      <td>323</td>\n",
              "      <td>331</td>\n",
              "    </tr>\n",
              "    <tr>\n",
              "      <th>13</th>\n",
              "      <td>0.997464</td>\n",
              "      <td>air pollution</td>\n",
              "      <td>335</td>\n",
              "      <td>348</td>\n",
              "    </tr>\n",
              "    <tr>\n",
              "      <th>14</th>\n",
              "      <td>0.999919</td>\n",
              "      <td>an exacerbation</td>\n",
              "      <td>365</td>\n",
              "      <td>380</td>\n",
              "    </tr>\n",
              "    <tr>\n",
              "      <th>15</th>\n",
              "      <td>0.999825</td>\n",
              "      <td>lung diseases</td>\n",
              "      <td>384</td>\n",
              "      <td>397</td>\n",
              "    </tr>\n",
              "    <tr>\n",
              "      <th>16</th>\n",
              "      <td>0.720678</td>\n",
              "      <td>Asthma and</td>\n",
              "      <td>406</td>\n",
              "      <td>416</td>\n",
              "    </tr>\n",
              "    <tr>\n",
              "      <th>17</th>\n",
              "      <td>0.848383</td>\n",
              "      <td>Chronic obstructive pulmonary disease</td>\n",
              "      <td>417</td>\n",
              "      <td>454</td>\n",
              "    </tr>\n",
              "    <tr>\n",
              "      <th>18</th>\n",
              "      <td>0.999748</td>\n",
              "      <td>COPD</td>\n",
              "      <td>456</td>\n",
              "      <td>460</td>\n",
              "    </tr>\n",
              "    <tr>\n",
              "      <th>19</th>\n",
              "      <td>0.999883</td>\n",
              "      <td>Patients</td>\n",
              "      <td>463</td>\n",
              "      <td>471</td>\n",
              "    </tr>\n",
              "    <tr>\n",
              "      <th>20</th>\n",
              "      <td>0.998328</td>\n",
              "      <td>diabetes mellitus</td>\n",
              "      <td>477</td>\n",
              "      <td>494</td>\n",
              "    </tr>\n",
              "    <tr>\n",
              "      <th>21</th>\n",
              "      <td>0.744670</td>\n",
              "      <td>obesity</td>\n",
              "      <td>499</td>\n",
              "      <td>506</td>\n",
              "    </tr>\n",
              "    <tr>\n",
              "      <th>22</th>\n",
              "      <td>0.991619</td>\n",
              "      <td>such exacerbations</td>\n",
              "      <td>525</td>\n",
              "      <td>543</td>\n",
              "    </tr>\n",
              "    <tr>\n",
              "      <th>23</th>\n",
              "      <td>0.999846</td>\n",
              "      <td>the consequent development</td>\n",
              "      <td>548</td>\n",
              "      <td>574</td>\n",
              "    </tr>\n",
              "    <tr>\n",
              "      <th>24</th>\n",
              "      <td>0.999904</td>\n",
              "      <td>serious lung infections</td>\n",
              "      <td>578</td>\n",
              "      <td>601</td>\n",
              "    </tr>\n",
              "    <tr>\n",
              "      <th>25</th>\n",
              "      <td>0.999838</td>\n",
              "      <td>pneumonia</td>\n",
              "      <td>610</td>\n",
              "      <td>619</td>\n",
              "    </tr>\n",
              "  </tbody>\n",
              "</table>\n",
              "</div>\n",
              "      <button class=\"colab-df-convert\" onclick=\"convertToInteractive('df-765b6bd2-dc3f-4e55-9d15-7408bd6dc142')\"\n",
              "              title=\"Convert this dataframe to an interactive table.\"\n",
              "              style=\"display:none;\">\n",
              "        \n",
              "  <svg xmlns=\"http://www.w3.org/2000/svg\" height=\"24px\"viewBox=\"0 0 24 24\"\n",
              "       width=\"24px\">\n",
              "    <path d=\"M0 0h24v24H0V0z\" fill=\"none\"/>\n",
              "    <path d=\"M18.56 5.44l.94 2.06.94-2.06 2.06-.94-2.06-.94-.94-2.06-.94 2.06-2.06.94zm-11 1L8.5 8.5l.94-2.06 2.06-.94-2.06-.94L8.5 2.5l-.94 2.06-2.06.94zm10 10l.94 2.06.94-2.06 2.06-.94-2.06-.94-.94-2.06-.94 2.06-2.06.94z\"/><path d=\"M17.41 7.96l-1.37-1.37c-.4-.4-.92-.59-1.43-.59-.52 0-1.04.2-1.43.59L10.3 9.45l-7.72 7.72c-.78.78-.78 2.05 0 2.83L4 21.41c.39.39.9.59 1.41.59.51 0 1.02-.2 1.41-.59l7.78-7.78 2.81-2.81c.8-.78.8-2.07 0-2.86zM5.41 20L4 18.59l7.72-7.72 1.47 1.35L5.41 20z\"/>\n",
              "  </svg>\n",
              "      </button>\n",
              "      \n",
              "  <style>\n",
              "    .colab-df-container {\n",
              "      display:flex;\n",
              "      flex-wrap:wrap;\n",
              "      gap: 12px;\n",
              "    }\n",
              "\n",
              "    .colab-df-convert {\n",
              "      background-color: #E8F0FE;\n",
              "      border: none;\n",
              "      border-radius: 50%;\n",
              "      cursor: pointer;\n",
              "      display: none;\n",
              "      fill: #1967D2;\n",
              "      height: 32px;\n",
              "      padding: 0 0 0 0;\n",
              "      width: 32px;\n",
              "    }\n",
              "\n",
              "    .colab-df-convert:hover {\n",
              "      background-color: #E2EBFA;\n",
              "      box-shadow: 0px 1px 2px rgba(60, 64, 67, 0.3), 0px 1px 3px 1px rgba(60, 64, 67, 0.15);\n",
              "      fill: #174EA6;\n",
              "    }\n",
              "\n",
              "    [theme=dark] .colab-df-convert {\n",
              "      background-color: #3B4455;\n",
              "      fill: #D2E3FC;\n",
              "    }\n",
              "\n",
              "    [theme=dark] .colab-df-convert:hover {\n",
              "      background-color: #434B5C;\n",
              "      box-shadow: 0px 1px 3px 1px rgba(0, 0, 0, 0.15);\n",
              "      filter: drop-shadow(0px 1px 2px rgba(0, 0, 0, 0.3));\n",
              "      fill: #FFFFFF;\n",
              "    }\n",
              "  </style>\n",
              "\n",
              "      <script>\n",
              "        const buttonEl =\n",
              "          document.querySelector('#df-765b6bd2-dc3f-4e55-9d15-7408bd6dc142 button.colab-df-convert');\n",
              "        buttonEl.style.display =\n",
              "          google.colab.kernel.accessAllowed ? 'block' : 'none';\n",
              "\n",
              "        async function convertToInteractive(key) {\n",
              "          const element = document.querySelector('#df-765b6bd2-dc3f-4e55-9d15-7408bd6dc142');\n",
              "          const dataTable =\n",
              "            await google.colab.kernel.invokeFunction('convertToInteractive',\n",
              "                                                     [key], {});\n",
              "          if (!dataTable) return;\n",
              "\n",
              "          const docLinkHtml = 'Like what you see? Visit the ' +\n",
              "            '<a target=\"_blank\" href=https://colab.research.google.com/notebooks/data_table.ipynb>data table notebook</a>'\n",
              "            + ' to learn more about interactive tables.';\n",
              "          element.innerHTML = '';\n",
              "          dataTable['output_type'] = 'display_data';\n",
              "          await google.colab.output.renderOutput(dataTable, element);\n",
              "          const docLink = document.createElement('div');\n",
              "          docLink.innerHTML = docLinkHtml;\n",
              "          element.appendChild(docLink);\n",
              "        }\n",
              "      </script>\n",
              "    </div>\n",
              "  </div>\n",
              "  "
            ]
          },
          "metadata": {},
          "execution_count": 10
        }
      ]
    },
    {
      "cell_type": "markdown",
      "source": [
        "Personal Identifiable Information (PII) is defined as: Any representation of information that permits the identity of an individual to whom the information applies to be reasonably inferred by either direct or indirect means."
      ],
      "metadata": {
        "id": "lPkmlCI4v7PI"
      }
    },
    {
      "cell_type": "code",
      "source": [
        "response = client.detect_pii_entities(Text=text, LanguageCode='en')\n",
        "pd.DataFrame(response['Entities'])"
      ],
      "metadata": {
        "colab": {
          "base_uri": "https://localhost:8080/",
          "height": 112
        },
        "id": "MzPP2ijx5yAw",
        "outputId": "fe69157c-1f60-4882-f99a-ca7c10ab0f8c"
      },
      "execution_count": 11,
      "outputs": [
        {
          "output_type": "execute_result",
          "data": {
            "text/plain": [
              "      Score     Type  BeginOffset  EndOffset\n",
              "0  0.999825  ADDRESS          140        149\n",
              "1  0.999888     NAME          246        259"
            ],
            "text/html": [
              "\n",
              "  <div id=\"df-b1cecd3a-d3d0-40ac-ad60-b648b7a1faeb\">\n",
              "    <div class=\"colab-df-container\">\n",
              "      <div>\n",
              "<style scoped>\n",
              "    .dataframe tbody tr th:only-of-type {\n",
              "        vertical-align: middle;\n",
              "    }\n",
              "\n",
              "    .dataframe tbody tr th {\n",
              "        vertical-align: top;\n",
              "    }\n",
              "\n",
              "    .dataframe thead th {\n",
              "        text-align: right;\n",
              "    }\n",
              "</style>\n",
              "<table border=\"1\" class=\"dataframe\">\n",
              "  <thead>\n",
              "    <tr style=\"text-align: right;\">\n",
              "      <th></th>\n",
              "      <th>Score</th>\n",
              "      <th>Type</th>\n",
              "      <th>BeginOffset</th>\n",
              "      <th>EndOffset</th>\n",
              "    </tr>\n",
              "  </thead>\n",
              "  <tbody>\n",
              "    <tr>\n",
              "      <th>0</th>\n",
              "      <td>0.999825</td>\n",
              "      <td>ADDRESS</td>\n",
              "      <td>140</td>\n",
              "      <td>149</td>\n",
              "    </tr>\n",
              "    <tr>\n",
              "      <th>1</th>\n",
              "      <td>0.999888</td>\n",
              "      <td>NAME</td>\n",
              "      <td>246</td>\n",
              "      <td>259</td>\n",
              "    </tr>\n",
              "  </tbody>\n",
              "</table>\n",
              "</div>\n",
              "      <button class=\"colab-df-convert\" onclick=\"convertToInteractive('df-b1cecd3a-d3d0-40ac-ad60-b648b7a1faeb')\"\n",
              "              title=\"Convert this dataframe to an interactive table.\"\n",
              "              style=\"display:none;\">\n",
              "        \n",
              "  <svg xmlns=\"http://www.w3.org/2000/svg\" height=\"24px\"viewBox=\"0 0 24 24\"\n",
              "       width=\"24px\">\n",
              "    <path d=\"M0 0h24v24H0V0z\" fill=\"none\"/>\n",
              "    <path d=\"M18.56 5.44l.94 2.06.94-2.06 2.06-.94-2.06-.94-.94-2.06-.94 2.06-2.06.94zm-11 1L8.5 8.5l.94-2.06 2.06-.94-2.06-.94L8.5 2.5l-.94 2.06-2.06.94zm10 10l.94 2.06.94-2.06 2.06-.94-2.06-.94-.94-2.06-.94 2.06-2.06.94z\"/><path d=\"M17.41 7.96l-1.37-1.37c-.4-.4-.92-.59-1.43-.59-.52 0-1.04.2-1.43.59L10.3 9.45l-7.72 7.72c-.78.78-.78 2.05 0 2.83L4 21.41c.39.39.9.59 1.41.59.51 0 1.02-.2 1.41-.59l7.78-7.78 2.81-2.81c.8-.78.8-2.07 0-2.86zM5.41 20L4 18.59l7.72-7.72 1.47 1.35L5.41 20z\"/>\n",
              "  </svg>\n",
              "      </button>\n",
              "      \n",
              "  <style>\n",
              "    .colab-df-container {\n",
              "      display:flex;\n",
              "      flex-wrap:wrap;\n",
              "      gap: 12px;\n",
              "    }\n",
              "\n",
              "    .colab-df-convert {\n",
              "      background-color: #E8F0FE;\n",
              "      border: none;\n",
              "      border-radius: 50%;\n",
              "      cursor: pointer;\n",
              "      display: none;\n",
              "      fill: #1967D2;\n",
              "      height: 32px;\n",
              "      padding: 0 0 0 0;\n",
              "      width: 32px;\n",
              "    }\n",
              "\n",
              "    .colab-df-convert:hover {\n",
              "      background-color: #E2EBFA;\n",
              "      box-shadow: 0px 1px 2px rgba(60, 64, 67, 0.3), 0px 1px 3px 1px rgba(60, 64, 67, 0.15);\n",
              "      fill: #174EA6;\n",
              "    }\n",
              "\n",
              "    [theme=dark] .colab-df-convert {\n",
              "      background-color: #3B4455;\n",
              "      fill: #D2E3FC;\n",
              "    }\n",
              "\n",
              "    [theme=dark] .colab-df-convert:hover {\n",
              "      background-color: #434B5C;\n",
              "      box-shadow: 0px 1px 3px 1px rgba(0, 0, 0, 0.15);\n",
              "      filter: drop-shadow(0px 1px 2px rgba(0, 0, 0, 0.3));\n",
              "      fill: #FFFFFF;\n",
              "    }\n",
              "  </style>\n",
              "\n",
              "      <script>\n",
              "        const buttonEl =\n",
              "          document.querySelector('#df-b1cecd3a-d3d0-40ac-ad60-b648b7a1faeb button.colab-df-convert');\n",
              "        buttonEl.style.display =\n",
              "          google.colab.kernel.accessAllowed ? 'block' : 'none';\n",
              "\n",
              "        async function convertToInteractive(key) {\n",
              "          const element = document.querySelector('#df-b1cecd3a-d3d0-40ac-ad60-b648b7a1faeb');\n",
              "          const dataTable =\n",
              "            await google.colab.kernel.invokeFunction('convertToInteractive',\n",
              "                                                     [key], {});\n",
              "          if (!dataTable) return;\n",
              "\n",
              "          const docLinkHtml = 'Like what you see? Visit the ' +\n",
              "            '<a target=\"_blank\" href=https://colab.research.google.com/notebooks/data_table.ipynb>data table notebook</a>'\n",
              "            + ' to learn more about interactive tables.';\n",
              "          element.innerHTML = '';\n",
              "          dataTable['output_type'] = 'display_data';\n",
              "          await google.colab.output.renderOutput(dataTable, element);\n",
              "          const docLink = document.createElement('div');\n",
              "          docLink.innerHTML = docLinkHtml;\n",
              "          element.appendChild(docLink);\n",
              "        }\n",
              "      </script>\n",
              "    </div>\n",
              "  </div>\n",
              "  "
            ]
          },
          "metadata": {},
          "execution_count": 11
        }
      ]
    },
    {
      "cell_type": "code",
      "source": [
        "text[140:149]"
      ],
      "metadata": {
        "colab": {
          "base_uri": "https://localhost:8080/",
          "height": 35
        },
        "id": "D_mR1voi58LO",
        "outputId": "ec9d91c8-c6e6-4a9b-b4e6-918e9344ed04"
      },
      "execution_count": 12,
      "outputs": [
        {
          "output_type": "execute_result",
          "data": {
            "text/plain": [
              "'Delhi NCR'"
            ],
            "application/vnd.google.colaboratory.intrinsic+json": {
              "type": "string"
            }
          },
          "metadata": {},
          "execution_count": 12
        }
      ]
    },
    {
      "cell_type": "code",
      "source": [
        "response"
      ],
      "metadata": {
        "colab": {
          "base_uri": "https://localhost:8080/"
        },
        "id": "ZqCz683ywLRQ",
        "outputId": "114b14fb-97e1-4b3c-f112-c2ce13325bfa"
      },
      "execution_count": 13,
      "outputs": [
        {
          "output_type": "execute_result",
          "data": {
            "text/plain": [
              "{'Entities': [{'Score': 0.9998247623443604,\n",
              "   'Type': 'ADDRESS',\n",
              "   'BeginOffset': 140,\n",
              "   'EndOffset': 149},\n",
              "  {'Score': 0.9998877048492432,\n",
              "   'Type': 'NAME',\n",
              "   'BeginOffset': 246,\n",
              "   'EndOffset': 259}],\n",
              " 'ResponseMetadata': {'RequestId': '2a1ac5a2-d4b7-463c-8352-b6f3f5c65ef3',\n",
              "  'HTTPStatusCode': 200,\n",
              "  'HTTPHeaders': {'x-amzn-requestid': '2a1ac5a2-d4b7-463c-8352-b6f3f5c65ef3',\n",
              "   'content-type': 'application/x-amz-json-1.1',\n",
              "   'content-length': '171',\n",
              "   'date': 'Sat, 26 Nov 2022 12:19:30 GMT'},\n",
              "  'RetryAttempts': 0}}"
            ]
          },
          "metadata": {},
          "execution_count": 13
        }
      ]
    },
    {
      "cell_type": "code",
      "source": [
        "text"
      ],
      "metadata": {
        "id": "PZzcVhYLwiw-"
      },
      "execution_count": null,
      "outputs": []
    },
    {
      "cell_type": "code",
      "source": [
        "for entity in response['Entities']:\n",
        "  entity_type = entity['Type']\n",
        "  entity_value = text[int(entity['BeginOffset']):int(entity['EndOffset'])]\n",
        "  print(f\"Entity Type: {entity_type} , Entity Value: {entity_value}\")"
      ],
      "metadata": {
        "colab": {
          "base_uri": "https://localhost:8080/"
        },
        "id": "zWKUFOf8wPuv",
        "outputId": "67397038-4fb3-424f-8c56-014a7c7c9eec"
      },
      "execution_count": 14,
      "outputs": [
        {
          "output_type": "stream",
          "name": "stdout",
          "text": [
            "Entity Type: ADDRESS , Entity Value: Delhi NCR\n",
            "Entity Type: NAME , Entity Value: Anupam Biswas\n"
          ]
        }
      ]
    },
    {
      "cell_type": "code",
      "source": [],
      "metadata": {
        "id": "vWiXR5Cywzfv"
      },
      "execution_count": null,
      "outputs": []
    }
  ]
}