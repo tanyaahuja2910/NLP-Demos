{
  "nbformat": 4,
  "nbformat_minor": 0,
  "metadata": {
    "colab": {
      "provenance": [],
      "authorship_tag": "ABX9TyPW0K6R3O/d22Gp81yBwebY",
      "include_colab_link": true
    },
    "kernelspec": {
      "name": "python3",
      "display_name": "Python 3"
    },
    "language_info": {
      "name": "python"
    }
  },
  "cells": [
    {
      "cell_type": "markdown",
      "metadata": {
        "id": "view-in-github",
        "colab_type": "text"
      },
      "source": [
        "<a href=\"https://colab.research.google.com/github/PradipNichite/Youtube-Tutorials/blob/main/ChatGPT_API_.ipynb\" target=\"_parent\"><img src=\"https://colab.research.google.com/assets/colab-badge.svg\" alt=\"Open In Colab\"/></a>"
      ]
    },
    {
      "cell_type": "code",
      "source": [
        "!pip install openai -q"
      ],
      "metadata": {
        "id": "WKJ9kF1Cb3sv"
      },
      "execution_count": null,
      "outputs": []
    },
    {
      "cell_type": "code",
      "source": [
        "import openai\n",
        "openai.api_key = \"sk-xYCdlaH8sCxjkeykeygdrrutstydydufu\""
      ],
      "metadata": {
        "id": "g8782wwFcWN5"
      },
      "execution_count": null,
      "outputs": []
    },
    {
      "cell_type": "code",
      "execution_count": null,
      "metadata": {
        "colab": {
          "base_uri": "https://localhost:8080/"
        },
        "id": "-2vVNJjVbv5A",
        "outputId": "77fff491-5dc7-4250-8f30-730c8d15571e"
      },
      "outputs": [
        {
          "output_type": "execute_result",
          "data": {
            "text/plain": [
              "<OpenAIObject chat.completion id=chatcmpl-6pLxo2CDADMwSb0FmqyOtqWIoFjAT at 0x7f24fb014720> JSON: {\n",
              "  \"choices\": [\n",
              "    {\n",
              "      \"finish_reason\": \"stop\",\n",
              "      \"index\": 0,\n",
              "      \"message\": {\n",
              "        \"content\": \"NLP stands for Natural Language Processing. It is a branch of AI that focuses on enabling machines to understand, interpret, and generate human language. NLP algorithms use various techniques to analyze and derive meaning from human language, including but not limited to, syntax, semantics, and pragmatics. Some of the common applications of NLP include chatbots, sentiment analysis, machine translation, and text summarization.\",\n",
              "        \"role\": \"assistant\"\n",
              "      }\n",
              "    }\n",
              "  ],\n",
              "  \"created\": 1677697176,\n",
              "  \"id\": \"chatcmpl-6pLxo2CDADMwSb0FmqyOtqWIoFjAT\",\n",
              "  \"model\": \"gpt-3.5-turbo-0301\",\n",
              "  \"object\": \"chat.completion\",\n",
              "  \"usage\": {\n",
              "    \"completion_tokens\": 84,\n",
              "    \"prompt_tokens\": 64,\n",
              "    \"total_tokens\": 148\n",
              "  }\n",
              "}"
            ]
          },
          "metadata": {},
          "execution_count": 6
        }
      ],
      "source": [
        "response = openai.ChatCompletion.create(\n",
        "  model=\"gpt-3.5-turbo\",\n",
        "  messages=[\n",
        "        {\"role\": \"system\", \"content\": \"You are a helpful AI Tutor.\"},\n",
        "        {\"role\": \"user\", \"content\": \"I am Pradip, I want to learn AI\"},\n",
        "        {\"role\": \"assistant\", \"content\": \"Hello, Pradip Thats awesome, what do you want to know aboout AI\"},\n",
        "        {\"role\": \"user\", \"content\": \"What is NLP?\"}\n",
        "    ]\n",
        ")\n",
        "response"
      ]
    },
    {
      "cell_type": "code",
      "source": [
        "response['choices'][0]['message']"
      ],
      "metadata": {
        "colab": {
          "base_uri": "https://localhost:8080/"
        },
        "id": "z2UhbJUscDvz",
        "outputId": "8d2a145d-6fea-4c03-f157-ffe1503a9a5b"
      },
      "execution_count": null,
      "outputs": [
        {
          "output_type": "execute_result",
          "data": {
            "text/plain": [
              "<OpenAIObject at 0x7f24fafdc720> JSON: {\n",
              "  \"content\": \"NLP stands for Natural Language Processing. It is a branch of AI that focuses on enabling machines to understand, interpret, and generate human language. NLP algorithms use various techniques to analyze and derive meaning from human language, including but not limited to, syntax, semantics, and pragmatics. Some of the common applications of NLP include chatbots, sentiment analysis, machine translation, and text summarization.\",\n",
              "  \"role\": \"assistant\"\n",
              "}"
            ]
          },
          "metadata": {},
          "execution_count": 7
        }
      ]
    },
    {
      "cell_type": "code",
      "source": [
        "def update_chat(messages, role, content):\n",
        "  messages.append({\"role\": role, \"content\": content})\n",
        "  return messages"
      ],
      "metadata": {
        "id": "59y6NGlTcgjg"
      },
      "execution_count": null,
      "outputs": []
    },
    {
      "cell_type": "code",
      "source": [
        "def get_chatgpt_response(messages):\n",
        "  response = openai.ChatCompletion.create(\n",
        "  model=\"gpt-3.5-turbo\",\n",
        "  messages=messages\n",
        ")\n",
        "  return  response['choices'][0]['message']['content']"
      ],
      "metadata": {
        "id": "XMhqsEHQeP53"
      },
      "execution_count": null,
      "outputs": []
    },
    {
      "cell_type": "code",
      "source": [
        "import pprint\n",
        "\n",
        "messages=[\n",
        "      {\"role\": \"system\", \"content\": \"You are a helpful AI Tutor.\"},\n",
        "      {\"role\": \"user\", \"content\": \"I am Pradip, I want to learn AI\"},\n",
        "      {\"role\": \"assistant\", \"content\": \"Hello, Pradip Thats awesome, what do you want to know aboout AI\"},\n",
        "  ]\n",
        "\n",
        "while True:\n",
        "  pprint.pprint(messages)\n",
        "  user_input = input()\n",
        "  messages = update_chat(messages, \"user\", user_input)\n",
        "  model_response = get_chatgpt_response(messages)\n",
        "  messages = update_chat(messages, \"assistant\", model_response)"
      ],
      "metadata": {
        "colab": {
          "base_uri": "https://localhost:8080/",
          "height": 1000
        },
        "id": "cj8i9K0XehPo",
        "outputId": "5595eb42-24dd-46f7-c804-821602e347ff"
      },
      "execution_count": null,
      "outputs": [
        {
          "output_type": "stream",
          "name": "stdout",
          "text": [
            "[{'content': 'You are a helpful AI Tutor.', 'role': 'system'},\n",
            " {'content': 'I am Pradip, I want to learn AI', 'role': 'user'},\n",
            " {'content': 'Hello, Pradip Thats awesome, what do you want to know aboout AI',\n",
            "  'role': 'assistant'}]\n",
            "What is NLP?\n",
            "[{'content': 'You are a helpful AI Tutor.', 'role': 'system'},\n",
            " {'content': 'I am Pradip, I want to learn AI', 'role': 'user'},\n",
            " {'content': 'Hello, Pradip Thats awesome, what do you want to know aboout AI',\n",
            "  'role': 'assistant'},\n",
            " {'content': 'What is NLP?', 'role': 'user'},\n",
            " {'content': 'NLP stands for Natural Language Processing. It is a branch of '\n",
            "             'Artificial Intelligence that is focused on enabling machines to '\n",
            "             'understand, interpret, and generate human language. This '\n",
            "             'technology can be used to analyze large amounts of text data, '\n",
            "             'understand sentiment, language translation, and more. NLP is a '\n",
            "             'rapidly growing field that has many applications in industries '\n",
            "             'such as customer service, marketing, healthcare, and finance.',\n",
            "  'role': 'assistant'}]\n",
            "can you tell me three use cases of NLP?\n",
            "[{'content': 'You are a helpful AI Tutor.', 'role': 'system'},\n",
            " {'content': 'I am Pradip, I want to learn AI', 'role': 'user'},\n",
            " {'content': 'Hello, Pradip Thats awesome, what do you want to know aboout AI',\n",
            "  'role': 'assistant'},\n",
            " {'content': 'What is NLP?', 'role': 'user'},\n",
            " {'content': 'NLP stands for Natural Language Processing. It is a branch of '\n",
            "             'Artificial Intelligence that is focused on enabling machines to '\n",
            "             'understand, interpret, and generate human language. This '\n",
            "             'technology can be used to analyze large amounts of text data, '\n",
            "             'understand sentiment, language translation, and more. NLP is a '\n",
            "             'rapidly growing field that has many applications in industries '\n",
            "             'such as customer service, marketing, healthcare, and finance.',\n",
            "  'role': 'assistant'},\n",
            " {'content': 'can you tell me three use cases of NLP?', 'role': 'user'},\n",
            " {'content': 'Sure! Here are three use cases of NLP:\\n'\n",
            "             '\\n'\n",
            "             '1. Sentiment Analysis: NLP can be used to analyze large amounts '\n",
            "             'of text data, such as social media posts or customer reviews, to '\n",
            "             'determine the sentiment behind them. This can help companies '\n",
            "             'understand how customers feel about their brand, products, or '\n",
            "             'services, and can inform decision-making around marketing, '\n",
            "             'customer service, and product development.\\n'\n",
            "             '\\n'\n",
            "             '2. Language Translation: NLP can be used to translate text from '\n",
            "             'one language to another. This is a useful application in many '\n",
            "             'contexts, such as global business and cross-cultural '\n",
            "             'communication.\\n'\n",
            "             '\\n'\n",
            "             '3. Chatbots: NLP can also be used to develop chatbots that can '\n",
            "             'interact with customers in a natural, conversational way. '\n",
            "             'Chatbots can be used for customer service, sales, and other '\n",
            "             'applications, and can be integrated into websites, messaging '\n",
            "             'apps, and other platforms.',\n",
            "  'role': 'assistant'}]\n",
            "Can you repeat my name?\n",
            "[{'content': 'You are a helpful AI Tutor.', 'role': 'system'},\n",
            " {'content': 'I am Pradip, I want to learn AI', 'role': 'user'},\n",
            " {'content': 'Hello, Pradip Thats awesome, what do you want to know aboout AI',\n",
            "  'role': 'assistant'},\n",
            " {'content': 'What is NLP?', 'role': 'user'},\n",
            " {'content': 'NLP stands for Natural Language Processing. It is a branch of '\n",
            "             'Artificial Intelligence that is focused on enabling machines to '\n",
            "             'understand, interpret, and generate human language. This '\n",
            "             'technology can be used to analyze large amounts of text data, '\n",
            "             'understand sentiment, language translation, and more. NLP is a '\n",
            "             'rapidly growing field that has many applications in industries '\n",
            "             'such as customer service, marketing, healthcare, and finance.',\n",
            "  'role': 'assistant'},\n",
            " {'content': 'can you tell me three use cases of NLP?', 'role': 'user'},\n",
            " {'content': 'Sure! Here are three use cases of NLP:\\n'\n",
            "             '\\n'\n",
            "             '1. Sentiment Analysis: NLP can be used to analyze large amounts '\n",
            "             'of text data, such as social media posts or customer reviews, to '\n",
            "             'determine the sentiment behind them. This can help companies '\n",
            "             'understand how customers feel about their brand, products, or '\n",
            "             'services, and can inform decision-making around marketing, '\n",
            "             'customer service, and product development.\\n'\n",
            "             '\\n'\n",
            "             '2. Language Translation: NLP can be used to translate text from '\n",
            "             'one language to another. This is a useful application in many '\n",
            "             'contexts, such as global business and cross-cultural '\n",
            "             'communication.\\n'\n",
            "             '\\n'\n",
            "             '3. Chatbots: NLP can also be used to develop chatbots that can '\n",
            "             'interact with customers in a natural, conversational way. '\n",
            "             'Chatbots can be used for customer service, sales, and other '\n",
            "             'applications, and can be integrated into websites, messaging '\n",
            "             'apps, and other platforms.',\n",
            "  'role': 'assistant'},\n",
            " {'content': 'Can you repeat my name?', 'role': 'user'},\n",
            " {'content': 'Yes, your name is Pradip.', 'role': 'assistant'}]\n",
            "can you talk more about the second usecase?\n",
            "[{'content': 'You are a helpful AI Tutor.', 'role': 'system'},\n",
            " {'content': 'I am Pradip, I want to learn AI', 'role': 'user'},\n",
            " {'content': 'Hello, Pradip Thats awesome, what do you want to know aboout AI',\n",
            "  'role': 'assistant'},\n",
            " {'content': 'What is NLP?', 'role': 'user'},\n",
            " {'content': 'NLP stands for Natural Language Processing. It is a branch of '\n",
            "             'Artificial Intelligence that is focused on enabling machines to '\n",
            "             'understand, interpret, and generate human language. This '\n",
            "             'technology can be used to analyze large amounts of text data, '\n",
            "             'understand sentiment, language translation, and more. NLP is a '\n",
            "             'rapidly growing field that has many applications in industries '\n",
            "             'such as customer service, marketing, healthcare, and finance.',\n",
            "  'role': 'assistant'},\n",
            " {'content': 'can you tell me three use cases of NLP?', 'role': 'user'},\n",
            " {'content': 'Sure! Here are three use cases of NLP:\\n'\n",
            "             '\\n'\n",
            "             '1. Sentiment Analysis: NLP can be used to analyze large amounts '\n",
            "             'of text data, such as social media posts or customer reviews, to '\n",
            "             'determine the sentiment behind them. This can help companies '\n",
            "             'understand how customers feel about their brand, products, or '\n",
            "             'services, and can inform decision-making around marketing, '\n",
            "             'customer service, and product development.\\n'\n",
            "             '\\n'\n",
            "             '2. Language Translation: NLP can be used to translate text from '\n",
            "             'one language to another. This is a useful application in many '\n",
            "             'contexts, such as global business and cross-cultural '\n",
            "             'communication.\\n'\n",
            "             '\\n'\n",
            "             '3. Chatbots: NLP can also be used to develop chatbots that can '\n",
            "             'interact with customers in a natural, conversational way. '\n",
            "             'Chatbots can be used for customer service, sales, and other '\n",
            "             'applications, and can be integrated into websites, messaging '\n",
            "             'apps, and other platforms.',\n",
            "  'role': 'assistant'},\n",
            " {'content': 'Can you repeat my name?', 'role': 'user'},\n",
            " {'content': 'Yes, your name is Pradip.', 'role': 'assistant'},\n",
            " {'content': 'can you talk more about the second usecase?', 'role': 'user'},\n",
            " {'content': 'Sure! Language translation is an important use case of NLP. With '\n",
            "             'the help of machine translation systems, applications can now '\n",
            "             'translate text from one language to another. This use can be '\n",
            "             'helpful for people who need to translate documents, websites, or '\n",
            "             'other types of content from one language to another. \\n'\n",
            "             '\\n'\n",
            "             'NLP-powered machine translation engines learn to use a '\n",
            "             'combination of statistical models, neural networks, and '\n",
            "             'rule-based systems to automatically translate text from one '\n",
            "             'language to another. These models learn from vast amounts of '\n",
            "             'text data in multiple languages and can handle complex language '\n",
            "             'structures and nuances. \\n'\n",
            "             '\\n'\n",
            "             'One challenge with machine translation is maintaining accuracy '\n",
            "             'and context during translation. The quality of translation '\n",
            "             'depends on several factors, such as the language pair being '\n",
            "             'translated and the domain of the content being translated. '\n",
            "             'Despite these challenges, machine translation has made great '\n",
            "             'strides in recent years, and continues to be a promising field '\n",
            "             'in NLP.',\n",
            "  'role': 'assistant'}]\n"
          ]
        },
        {
          "output_type": "error",
          "ename": "KeyboardInterrupt",
          "evalue": "ignored",
          "traceback": [
            "\u001b[0;31m---------------------------------------------------------------------------\u001b[0m",
            "\u001b[0;31mKeyboardInterrupt\u001b[0m                         Traceback (most recent call last)",
            "\u001b[0;32m<ipython-input-13-8d9827b6fa1e>\u001b[0m in \u001b[0;36m<module>\u001b[0;34m\u001b[0m\n\u001b[1;32m      9\u001b[0m \u001b[0;32mwhile\u001b[0m \u001b[0;32mTrue\u001b[0m\u001b[0;34m:\u001b[0m\u001b[0;34m\u001b[0m\u001b[0;34m\u001b[0m\u001b[0m\n\u001b[1;32m     10\u001b[0m   \u001b[0mpprint\u001b[0m\u001b[0;34m.\u001b[0m\u001b[0mpprint\u001b[0m\u001b[0;34m(\u001b[0m\u001b[0mmessages\u001b[0m\u001b[0;34m)\u001b[0m\u001b[0;34m\u001b[0m\u001b[0;34m\u001b[0m\u001b[0m\n\u001b[0;32m---> 11\u001b[0;31m   \u001b[0muser_input\u001b[0m \u001b[0;34m=\u001b[0m \u001b[0minput\u001b[0m\u001b[0;34m(\u001b[0m\u001b[0;34m)\u001b[0m\u001b[0;34m\u001b[0m\u001b[0;34m\u001b[0m\u001b[0m\n\u001b[0m\u001b[1;32m     12\u001b[0m   \u001b[0mmessages\u001b[0m \u001b[0;34m=\u001b[0m \u001b[0mupdate_chat\u001b[0m\u001b[0;34m(\u001b[0m\u001b[0mmessages\u001b[0m\u001b[0;34m,\u001b[0m \u001b[0;34m\"user\"\u001b[0m\u001b[0;34m,\u001b[0m \u001b[0muser_input\u001b[0m\u001b[0;34m)\u001b[0m\u001b[0;34m\u001b[0m\u001b[0;34m\u001b[0m\u001b[0m\n\u001b[1;32m     13\u001b[0m   \u001b[0mmodel_response\u001b[0m \u001b[0;34m=\u001b[0m \u001b[0mget_chatgpt_response\u001b[0m\u001b[0;34m(\u001b[0m\u001b[0mmessages\u001b[0m\u001b[0;34m)\u001b[0m\u001b[0;34m\u001b[0m\u001b[0;34m\u001b[0m\u001b[0m\n",
            "\u001b[0;32m/usr/local/lib/python3.8/dist-packages/ipykernel/kernelbase.py\u001b[0m in \u001b[0;36mraw_input\u001b[0;34m(self, prompt)\u001b[0m\n\u001b[1;32m    858\u001b[0m                 \u001b[0;34m\"raw_input was called, but this frontend does not support input requests.\"\u001b[0m\u001b[0;34m\u001b[0m\u001b[0;34m\u001b[0m\u001b[0m\n\u001b[1;32m    859\u001b[0m             )\n\u001b[0;32m--> 860\u001b[0;31m         return self._input_request(str(prompt),\n\u001b[0m\u001b[1;32m    861\u001b[0m             \u001b[0mself\u001b[0m\u001b[0;34m.\u001b[0m\u001b[0m_parent_ident\u001b[0m\u001b[0;34m,\u001b[0m\u001b[0;34m\u001b[0m\u001b[0;34m\u001b[0m\u001b[0m\n\u001b[1;32m    862\u001b[0m             \u001b[0mself\u001b[0m\u001b[0;34m.\u001b[0m\u001b[0m_parent_header\u001b[0m\u001b[0;34m,\u001b[0m\u001b[0;34m\u001b[0m\u001b[0;34m\u001b[0m\u001b[0m\n",
            "\u001b[0;32m/usr/local/lib/python3.8/dist-packages/ipykernel/kernelbase.py\u001b[0m in \u001b[0;36m_input_request\u001b[0;34m(self, prompt, ident, parent, password)\u001b[0m\n\u001b[1;32m    902\u001b[0m             \u001b[0;32mexcept\u001b[0m \u001b[0mKeyboardInterrupt\u001b[0m\u001b[0;34m:\u001b[0m\u001b[0;34m\u001b[0m\u001b[0;34m\u001b[0m\u001b[0m\n\u001b[1;32m    903\u001b[0m                 \u001b[0;31m# re-raise KeyboardInterrupt, to truncate traceback\u001b[0m\u001b[0;34m\u001b[0m\u001b[0;34m\u001b[0m\u001b[0;34m\u001b[0m\u001b[0m\n\u001b[0;32m--> 904\u001b[0;31m                 \u001b[0;32mraise\u001b[0m \u001b[0mKeyboardInterrupt\u001b[0m\u001b[0;34m(\u001b[0m\u001b[0;34m\"Interrupted by user\"\u001b[0m\u001b[0;34m)\u001b[0m \u001b[0;32mfrom\u001b[0m \u001b[0;32mNone\u001b[0m\u001b[0;34m\u001b[0m\u001b[0;34m\u001b[0m\u001b[0m\n\u001b[0m\u001b[1;32m    905\u001b[0m             \u001b[0;32mexcept\u001b[0m \u001b[0mException\u001b[0m \u001b[0;32mas\u001b[0m \u001b[0me\u001b[0m\u001b[0;34m:\u001b[0m\u001b[0;34m\u001b[0m\u001b[0;34m\u001b[0m\u001b[0m\n\u001b[1;32m    906\u001b[0m                 \u001b[0mself\u001b[0m\u001b[0;34m.\u001b[0m\u001b[0mlog\u001b[0m\u001b[0;34m.\u001b[0m\u001b[0mwarning\u001b[0m\u001b[0;34m(\u001b[0m\u001b[0;34m\"Invalid Message:\"\u001b[0m\u001b[0;34m,\u001b[0m \u001b[0mexc_info\u001b[0m\u001b[0;34m=\u001b[0m\u001b[0;32mTrue\u001b[0m\u001b[0;34m)\u001b[0m\u001b[0;34m\u001b[0m\u001b[0;34m\u001b[0m\u001b[0m\n",
            "\u001b[0;31mKeyboardInterrupt\u001b[0m: Interrupted by user"
          ]
        }
      ]
    },
    {
      "cell_type": "code",
      "source": [],
      "metadata": {
        "id": "Lms4jJaYfHfm"
      },
      "execution_count": null,
      "outputs": []
    }
  ]
}